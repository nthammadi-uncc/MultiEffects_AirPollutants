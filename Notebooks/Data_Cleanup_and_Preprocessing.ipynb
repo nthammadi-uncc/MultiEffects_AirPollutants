{
  "nbformat": 4,
  "nbformat_minor": 0,
  "metadata": {
    "colab": {
      "name": "Data_Cleanup_and_Preprocessing",
      "provenance": [],
      "collapsed_sections": []
    },
    "kernelspec": {
      "name": "python3",
      "display_name": "Python 3"
    },
    "language_info": {
      "name": "python"
    }
  },
  "cells": [
    {
      "cell_type": "markdown",
      "source": [
        "<a href=\"https://colab.research.google.com/github/nthammadi-uncc/MultiEffects_AirPollutants/blob/main/Notebooks/Data_Cleanup_and_Preprocessing.ipynb\" target=\"_parent\"><img src=\"https://colab.research.google.com/assets/colab-badge.svg\" alt=\"Open In Colab\"/></a>"
      ],
      "metadata": {
        "id": "XhRnUi7cP2k-"
      }
    },
    {
      "cell_type": "markdown",
      "source": [
        "# Data Cleanup and Preprocessing for Bayesian Multi Effect model Analysis of Air pollutants through Electricity usage across all states of America"
      ],
      "metadata": {
        "id": "j1At6NNucTw2"
      }
    },
    {
      "cell_type": "markdown",
      "source": [
        "#### Install libraries"
      ],
      "metadata": {
        "id": "PlvFXpkRc7Oj"
      }
    },
    {
      "cell_type": "code",
      "source": [
        "#run both R and python \n",
        "%load_ext rpy2.ipython"
      ],
      "metadata": {
        "id": "5gd743HjTZPS"
      },
      "execution_count": 1,
      "outputs": []
    },
    {
      "cell_type": "code",
      "source": [
        "%%R\n",
        "library(readr)\n",
        "library(dplyr)\n",
        "library(tidyverse)\n",
        "library(magrittr)"
      ],
      "metadata": {
        "colab": {
          "base_uri": "https://localhost:8080/"
        },
        "id": "eOUgBhkkcSPd",
        "outputId": "4f853f02-6d92-445b-88a6-ef0f1990499d"
      },
      "execution_count": 2,
      "outputs": [
        {
          "output_type": "stream",
          "name": "stderr",
          "text": [
            "R[write to console]: \n",
            "Attaching package: ‘dplyr’\n",
            "\n",
            "\n",
            "R[write to console]: The following objects are masked from ‘package:stats’:\n",
            "\n",
            "    filter, lag\n",
            "\n",
            "\n",
            "R[write to console]: The following objects are masked from ‘package:base’:\n",
            "\n",
            "    intersect, setdiff, setequal, union\n",
            "\n",
            "\n",
            "R[write to console]: ── Attaching packages ─────────────────────────────────────── tidyverse 1.3.1 ──\n",
            "\n",
            "R[write to console]: ✔ ggplot2 3.3.5     ✔ purrr   0.3.4\n",
            "✔ tibble  3.1.6     ✔ stringr 1.4.0\n",
            "✔ tidyr   1.2.0     ✔ forcats 0.5.1\n",
            "\n",
            "R[write to console]: ── Conflicts ────────────────────────────────────────── tidyverse_conflicts() ──\n",
            "✖ dplyr::filter() masks stats::filter()\n",
            "✖ dplyr::lag()    masks stats::lag()\n",
            "\n",
            "R[write to console]: \n",
            "Attaching package: ‘magrittr’\n",
            "\n",
            "\n",
            "R[write to console]: The following object is masked from ‘package:purrr’:\n",
            "\n",
            "    set_names\n",
            "\n",
            "\n",
            "R[write to console]: The following object is masked from ‘package:tidyr’:\n",
            "\n",
            "    extract\n",
            "\n",
            "\n"
          ]
        }
      ]
    },
    {
      "cell_type": "markdown",
      "source": [
        "#### R version"
      ],
      "metadata": {
        "id": "2lUbl95RdBQv"
      }
    },
    {
      "cell_type": "code",
      "execution_count": 3,
      "metadata": {
        "colab": {
          "base_uri": "https://localhost:8080/"
        },
        "id": "aSvBwdL3b2Im",
        "outputId": "7e09ee68-cf08-45c5-a64c-552ac9e245eb"
      },
      "outputs": [
        {
          "output_type": "stream",
          "name": "stdout",
          "text": [
            "[1] \"R version 4.1.3 (2022-03-10)\"\n"
          ]
        }
      ],
      "source": [
        "%%R\n",
        "R.version.string"
      ]
    },
    {
      "cell_type": "markdown",
      "source": [
        "#### Data files from Github"
      ],
      "metadata": {
        "id": "pjZ8lUHyd3a6"
      }
    },
    {
      "cell_type": "code",
      "source": [
        "%%R\n",
        "#set up data urls from github\n",
        "parent_url<-\"https://raw.githubusercontent.com/nthammadi-uncc/electricity_usage_analysis/main/Data/\"\n",
        "electric_price_url <- paste(parent_url,\"avgprice_annual.csv\", sep=\"\")\n",
        "#annual_customers_url <- paste(parent_url,\"customers_annual.csv\", sep=\"\")\n",
        "annual_emission_url <- paste(parent_url,\"emission_annual.csv\", sep=\"\")\n",
        "#annual_revenue_url <- paste(parent_url,\"revenue_annual.csv\", sep=\"\")\n",
        "monthly_consumption_url <- paste(parent_url,\"consumption_monthly.csv\", sep=\"\")\n",
        "monthly_generation_url <- paste(parent_url,\"generation_monthly.csv\", sep=\"\")\n",
        "#median_household_income_url <- paste(parent_url,\"median_household_income.csv\", sep=\"\")\n",
        "presidential_election_url <- paste(parent_url,\"presidential_election_results.csv\", sep=\"\")\n",
        "state_regions_url <- \"https://raw.githubusercontent.com/cphalpert/census-regions/master/us%20census%20bureau%20regions%20and%20divisions.csv\""
      ],
      "metadata": {
        "id": "O2oAthq7d2up"
      },
      "execution_count": 4,
      "outputs": []
    },
    {
      "cell_type": "markdown",
      "source": [
        "#### Load CSV files and perform Feature Engineering and Data Pre-processings"
      ],
      "metadata": {
        "id": "NLSXcQeRgYjk"
      }
    },
    {
      "cell_type": "code",
      "source": [
        "%%R\n",
        "print(\"---------- Electricity price - cents per kilo watt hour ----------\")\n",
        "#Electricity price - cents per kilo watt hour\n",
        "all_price_df <- read_csv(url(electric_price_url))\n",
        "#convert column names to R-safe column names\n",
        "names(all_price_df) <- make.names(names(all_price_df))\n",
        "#only select \"Total Electric Industry\" industry sector and records of the year 2020\n",
        "all_price_df <- all_price_df %>% filter(Industry.Sector.Category == \"Total Electric Industry\") %>% select(Year,State,Total)\n",
        "#convert cents per KWh to dollars per MWh\n",
        "#1 MWh = 1000 KWh\n",
        "#1 dollar = 100 cents\n",
        "all_price_df$PRICE.DOLLAR_MWh <- (all_price_df$Total * 1000) / 100\n",
        "#rename columns\n",
        "names(all_price_df) <- c('YEAR', 'STATE', 'PRICE.CENTS_KWh','PRICE.DOLLAR_MWh')\n",
        "#only select records of the year 2020\n",
        "price_df <- all_price_df %>% filter(YEAR == 2020) %>% select(YEAR,STATE,PRICE.DOLLAR_MWh)\n",
        "#dimensions of the dataframe will be [52 - rows, 3 columns]. This includes DC and US-Total\n",
        "dim(price_df)\n",
        "\n",
        "print(\"---------- Electricity Generation by type(Sustainable,Not Sustainable) measured in Mega Watt hours ----------\")\n",
        "#Electricity Generation by type(Sustainable,Not Sustainable)\n",
        "all_generation_df <- read_csv(url(monthly_generation_url))\n",
        "#convert column names to R-safe column names\n",
        "names(all_generation_df) <- make.names(names(all_generation_df))\n",
        "#there are multiple energy sources termed under \"Other\". Only select those that can be categorized by type(Sustainable,Not Sustainable)\n",
        "en_sources <- c(\"Coal\",\"Geothermal\",\"Hydroelectric Conventional\",\"Natural Gas\",\"Nuclear\",\"Other Biomass\",\"Other Gases\",\"Petroleum\",\"Pumped Storage\",\"Solar Thermal and Photovoltaic\",\"Wind\",\"Wood and Wood Derived Fuels\")\n",
        "#only select \"Total Electric Industry\" type of producer and energy sources mentioned above\n",
        "all_generation_df <- all_generation_df %>% filter(TYPE_OF_PRODUCER == \"Total Electric Power Industry\" & ENERGY_SOURCE %in% en_sources) %>% select(,-TYPE_OF_PRODUCER) \n",
        "#Data is distributed on monthly basis. Group by year, state and energy source and summarize on mean of GENERATION_MWh\n",
        "all_generation_df <- all_generation_df %>% group_by(across(all_of(c(\"YEAR\",\"STATE\",\"ENERGY_SOURCE\")))) %>% summarize(GENERATION_MWh =  mean(GENERATION_MWh, na.rm=TRUE))\n",
        "#categorize energy source by type(Sustainable,Not Sustainable)\n",
        "all_generation_df$ENERGY.SOURCE <- ifelse(all_generation_df$ENERGY_SOURCE %in% c(\"Coal\",\"Petroleum\",\"Other Gases\",\"Wood and Wood Derived Fuels\"), \"Not Sustainable\",\"Sustainable\")\n",
        "#group by year, state and type of energy source and summarize by adding the GENERATION_MWh of similar types\n",
        "all_generation_df <- all_generation_df %>% group_by(across(all_of(c(\"YEAR\",\"STATE\",\"ENERGY.SOURCE\")))) %>% summarize(GENERATION_MWh =  sum(GENERATION_MWh, na.rm=TRUE)) %>% ungroup()\n",
        "#only store the records of year 2020 for further analysis\n",
        "generation_df <- all_generation_df %>% filter(YEAR == 2020)\n",
        "#dimensions of the dataframe will be [104 - rows, 4 columns], 52 rows for each type(Sustainable,Not Sustainable). This includes DC and US-Total\n",
        "dim(generation_df)\n",
        "\n",
        "print(\"---------- Electricity Consumption by type(Sustainable,Not Sustainable) measured in Mega Watt hours ----------\")\n",
        "#Electricity Consumption by type(Sustainable,Not Sustainable)\n",
        "all_consumption_df <- read_csv(url(monthly_consumption_url))\n",
        "#convert column names to R-safe column names\n",
        "names(all_consumption_df) <- make.names(names(all_consumption_df))\n",
        "#only select \"Total Electric Power Industry\" type of producer\n",
        "all_consumption_df <- all_consumption_df %>% filter(TYPE_OF_PRODUCER == \"Total Electric Power Industry\") %>% select(,-TYPE_OF_PRODUCER) \n",
        "#Data is distributed on monthly basis. Group by year, state and energy source and summarize on mean of CONSUMPTION\n",
        "all_consumption_df <- all_consumption_df %>% group_by(across(all_of(c(\"YEAR\",\"STATE\",\"ENERGY_SOURCE\")))) %>% summarize(CONSUMPTION =  mean(CONSUMPTION, na.rm=TRUE)) %>% ungroup()\n",
        "#categorize energy source by type(Sustainable,Not Sustainable). Other Gases (Billion Btu) includes blast furnace gas, and other manufactured and waste gases derived from fossil fuels.\n",
        "all_consumption_df$ENERGY.SOURCE <- ifelse(all_consumption_df$ENERGY_SOURCE %in% c(\"Coal (Short Tons)\",\"Petroleum (Barrels)\",\"Other Gases (Billion Btu)\"), \"Not Sustainable\",\"Sustainable\")\n",
        "\n",
        "#Each energy source is measured in a different unit of measure:\n",
        "#   Coal - Short tons\n",
        "#   Petroleum - Barrels\n",
        "#   Natural gas - Mcf\n",
        "#   Geothermal and other gases - Billion Btu\n",
        "\n",
        "# To convert each of these into a common unit - Mega Watt hour, the next set of calculations are performed\n",
        "# We will first separate each energy source by its unit into a separate dataframe and finally combine them all into one\n",
        "coal_df <- all_consumption_df%>% filter(ENERGY_SOURCE == \"Coal (Short Tons)\")\n",
        "petroleum_df <- all_consumption_df%>% filter(ENERGY_SOURCE == \"Petroleum (Barrels)\")\n",
        "natural_gas_df <- all_consumption_df%>% filter(ENERGY_SOURCE == \"Natural Gas (Mcf)\")\n",
        "geothermal_other_df <- all_consumption_df%>% filter(ENERGY_SOURCE == \"Geothermal (Billion Btu)\" | ENERGY_SOURCE == \"Other Gases (Billion Btu)\")\n",
        "\n",
        "#convert Coal (Short Tons) to Mega Watt Hour\n",
        "#1 short ton = 2000 pounds,  1.13 pounds generates 1 Kilo Watt Hour, 1000 kWh = 1MWh\n",
        "coal_df$CONSUMPTION_MWh <- (coal_df$CONSUMPTION * 2000 * 1.13)/1000\n",
        "\n",
        "#convert Petroleum (Barrels) to Mega Watt Hour\n",
        "#1 barrel = 42 gallons,   0.08 gallons generates 1 Kilo Watt Hour, 1000 kWh = 1MWh\n",
        "petroleum_df$CONSUMPTION_MWh <- (petroleum_df$CONSUMPTION * 42 * 0.08)/1000\n",
        "\n",
        "#convert Natural Gas (Mcf) to Mega Watt Hour\n",
        "#1 Mcf = 1000 cubic feet,   7.43 gallons generates 1 Kilo Watt Hour, 1000 kWh = 1MWh\n",
        "natural_gas_df$CONSUMPTION_MWh <- (natural_gas_df$CONSUMPTION * 1000 * 7.43)/1000\n",
        "\n",
        "#convert Geothermal and Other Gases in Billion Btu to Mega Watt Hour\n",
        "#1 Billion = 10^9, 0.341296928 * 10^-5 Billion Btu generates 1 Kilo Watt Hour, 1000 kWh = 1MWh\n",
        "geothermal_other_df$CONSUMPTION_MWh <- (geothermal_other_df$CONSUMPTION * 0.341296928 *(10^-5))/1000\n",
        "\n",
        "#combine all dataframes into one dataframe\n",
        "combined_consumption_df <- rbind(coal_df,petroleum_df,natural_gas_df,geothermal_other_df)\n",
        "\n",
        "#Group by year, state and energy.source(Sustainable/Not sustainable) and summarize by adding the CONSUMPTION_MWh of similar types\n",
        "combined_consumption_df <- combined_consumption_df %>% group_by(across(all_of(c(\"YEAR\",\"STATE\",\"ENERGY.SOURCE\")))) %>% summarize(CONSUMPTION_MWh =  sum(CONSUMPTION_MWh, na.rm=TRUE)) %>% ungroup()\n",
        "\n",
        "#only store the records of year 2020 for further analysis\n",
        "consumption_df <- combined_consumption_df %>% filter(YEAR == 2020)\n",
        "#dimensions of the dataframe will be [104 - rows, 4 columns], 52 rows for each type(Sustainable,Not Sustainable). This includes DC and US-Total\n",
        "dim(consumption_df)\n",
        "\n",
        "print(\"---------- Carbon Emissions by Energy type(Sustainable,Not Sustainable) measured in Metric Tons ----------\")\n",
        "#Annual Emissions by Energy type(Sustainable,Not Sustainable)\n",
        "all_emission_df <- read_csv(url(annual_emission_url))\n",
        "#convert column names to R-safe column names\n",
        "names(all_emission_df) <- make.names(names(all_emission_df))\n",
        "#there are multiple energy emission sources termed under \"Other\". Also we will discard \"All Sources\" as we will be observing at the individual level\n",
        "#Only select those that can be categorized by type(Sustainable,Not Sustainable)\n",
        "emi_sources <- c(\"Coal\",\"Geothermal\",\"Natural Gas\",\"Other Biomass\",\"Other Gases\",\"Petroleum\",\"Wood and Wood Derived Fuels\")\n",
        "#only select \"Total Electric Power Industry\" type of producer and energy emission sources mentioned above\n",
        "#for this project, we will only look into Carbon emissions by different energy sources and discard Sulphur and Nitrogen emissions\n",
        "all_emission_df <- all_emission_df %>% filter(Producer.Type == \"Total Electric Power Industry\" & Energy.Source %in% emi_sources) %>% select(Year, State, Energy.Source, CO2..Metric.Tons.)\n",
        "#rename columns\n",
        "names(all_emission_df) <- c('YEAR', 'STATE', 'ENERGY.SOURCE', 'CO2.EMISSION_METRIC.TONS')\n",
        "#categorize energy source by type(Sustainable,Not Sustainable)\n",
        "all_emission_df$EMISSION.SOURCE <- ifelse(all_emission_df$ENERGY.SOURCE %in% c(\"Coal\",\"Petroleum\",\"Other Gases\",\"Wood and Wood Derived Fuels\"), \"Not Sustainable\",\"Sustainable\")\n",
        "#group by year, state and type of emission source and summarize by adding the CO2..Metric.Tons. of similar types\n",
        "all_emission_df <- all_emission_df %>% group_by(across(all_of(c(\"YEAR\",\"STATE\",\"EMISSION.SOURCE\")))) %>% summarize(CO2.EMISSION_METRIC.TONS =  sum(CO2.EMISSION_METRIC.TONS, na.rm=TRUE)) %>% ungroup()\n",
        "#only store the records of year 2020 for further analysis\n",
        "emission_df <- all_emission_df %>% filter(YEAR == 2020)\n",
        "#rename columns to match with other data frames\n",
        "names(emission_df) <- c('YEAR', 'STATE', 'ENERGY.SOURCE', 'CO2.EMISSION_METRIC.TONS')\n",
        "#dimensions of the dataframe will be [104 - rows, 4 columns], 52 rows for each type(Sustainable,Not Sustainable). This includes DC and US-Total\n",
        "dim(emission_df)\n",
        "\n",
        "print(\"---------- Election Results in all States ----------\")\n",
        "#We will use the final_electricity_data csv to get the results of elections since these are already arranged and calculated\n",
        "#All other columns will be discarded\n",
        "all_election_result_df <- read_csv(url(presidential_election_url))\n",
        "#convert column names to R-safe column names\n",
        "names(all_election_result_df) <- make.names(names(all_election_result_df))\n",
        "#create a percentage of votes column for the percent of total votes the candidate received\n",
        "all_election_result_df$PERCENT_VOTES=all_election_result_df$candidate_votes/all_election_result_df$total_votes\n",
        "#seperate votes by party as columns so that each state has a percentage of votes per party \n",
        "all_election_result_df <- all_election_result_df %>% group_by(across(all_of(c(\"year\",\"state_po\",\"party_simplified\")))) %>%   #group by year,state,party\n",
        "                                                  summarize(PERCENT_VOTES =  mean(PERCENT_VOTES, na.rm=TRUE)) %>%     #summarize by mean of percent votes\n",
        "                                                  mutate(idx= row_number()) %>%     #mutate as data frame with id\n",
        "                                                  spread(party_simplified,PERCENT_VOTES) %>%    #spread the party_simplified as columns and assign the row value as percent votes\n",
        "                                                  select(-idx) %>%    #remove idx column as it is no longer needed\n",
        "                                                  replace_na(list(DEMOCRAT=0,LIBERTARIAN=0,OTHER=0,REPUBLICAN=0)) %>%     # replace all NA values in the party columns with 0\n",
        "                                                  group_by(across(all_of(c(\"year\",\"state_po\")))) %>%    #group by year and state\n",
        "                                                  summarize(across(everything(), list(sum))) %>%    #summarize everything by adding the values\n",
        "                                                  ungroup()  # ungroup to create tibble\n",
        "#rename all columns\n",
        "names(all_election_result_df) <- c('YEAR', 'STATE', 'DEMOCRAT', 'LIBERTARIAN', 'OTHER', 'REPUBLICAN')\n",
        "#since OTHER and LIBERTARIAN do not have a high percentage of votes, we can choose between DEMOCRATS and REPUBLICANS as to who has won the election in that state\n",
        "summary(all_election_result_df)\n",
        "all_election_result_df$RULING.PARTY <- ifelse(all_election_result_df$DEMOCRAT>all_election_result_df$REPUBLICAN, \"DEMOCRAT\",\"REPUBLICAN\")\n",
        "#drop unnecessary and redundant columns\n",
        "all_election_result_df <- all_election_result_df %>% select(YEAR, STATE, RULING.PARTY)\n",
        "#only store the records of year 2020 for further analysis\n",
        "ruling_govt_df <- all_election_result_df %>% filter(YEAR == 2020)\n",
        "#dimensions of the dataframe will be [51 - rows, 3 columns]. This includes DC\n",
        "dim(ruling_govt_df)\n",
        "\n",
        "print(\"---------- US States and their Regions ----------\")\n",
        "#Get all US states and their Regions\n",
        "regions_df <- read_csv(url(state_regions_url))\n",
        "#rename all columns\n",
        "names(regions_df) <- c('STATE.NAME','STATE', 'REGION', 'DIVISION')\n",
        "#dimensions of the dataframe will be [51 - rows, 4 columns]. This includes DC\n",
        "dim(regions_df)"
      ],
      "metadata": {
        "colab": {
          "base_uri": "https://localhost:8080/"
        },
        "id": "1hkwhGeXgll7",
        "outputId": "498b7d7a-bfba-4b40-caa7-20a06725b25c"
      },
      "execution_count": 5,
      "outputs": [
        {
          "output_type": "stream",
          "name": "stdout",
          "text": [
            "[1] \"---------- Electricity price - cents per kilo watt hour ----------\"\n",
            "Rows: 4605 Columns: 9\n",
            "── Column specification ────────────────────────────────────────────────────────\n",
            "Delimiter: \",\"\n",
            "chr (2): State, Industry Sector Category\n",
            "dbl (7): Year, Residential, Commercial, Industrial, Transportation, Other, T...\n",
            "\n",
            "ℹ Use `spec()` to retrieve the full column specification for this data.\n",
            "ℹ Specify the column types or set `show_col_types = FALSE` to quiet this message.\n",
            "[1] \"---------- Electricity Generation by type(Sustainable,Not Sustainable) measured in Mega Watt hours ----------\"\n",
            "Rows: 461042 Columns: 6\n",
            "── Column specification ────────────────────────────────────────────────────────\n",
            "Delimiter: \",\"\n",
            "chr (3): STATE, TYPE_OF_PRODUCER, ENERGY_SOURCE\n",
            "dbl (3): YEAR, MONTH, GENERATION_MWh\n",
            "\n",
            "ℹ Use `spec()` to retrieve the full column specification for this data.\n",
            "ℹ Specify the column types or set `show_col_types = FALSE` to quiet this message.\n",
            "`summarise()` has grouped output by 'YEAR', 'STATE'. You can override using the\n",
            "`.groups` argument.\n",
            "`summarise()` has grouped output by 'YEAR', 'STATE'. You can override using the\n",
            "`.groups` argument.\n",
            "[1] \"---------- Electricity Consumption by type(Sustainable,Not Sustainable) measured in Mega Watt hours ----------\"\n",
            "Rows: 188156 Columns: 6\n",
            "── Column specification ────────────────────────────────────────────────────────\n",
            "Delimiter: \",\"\n",
            "chr (3): STATE, TYPE_OF_PRODUCER, ENERGY_SOURCE\n",
            "dbl (3): YEAR, MONTH, CONSUMPTION\n",
            "\n",
            "ℹ Use `spec()` to retrieve the full column specification for this data.\n",
            "ℹ Specify the column types or set `show_col_types = FALSE` to quiet this message.\n",
            "`summarise()` has grouped output by 'YEAR', 'STATE'. You can override using the\n",
            "`.groups` argument.\n",
            "`summarise()` has grouped output by 'YEAR', 'STATE'. You can override using the\n",
            "`.groups` argument.\n",
            "[1] \"---------- Carbon Emissions by Energy type(Sustainable,Not Sustainable) measured in Metric Tons ----------\"\n",
            "Rows: 44746 Columns: 7\n",
            "── Column specification ────────────────────────────────────────────────────────\n",
            "Delimiter: \",\"\n",
            "chr (3): State, Producer Type, Energy Source\n",
            "dbl (4): Year, CO2\n",
            "(Metric Tons), SO2\n",
            "(Metric Tons), NOx\n",
            "(Metric Tons)\n",
            "\n",
            "ℹ Use `spec()` to retrieve the full column specification for this data.\n",
            "ℹ Specify the column types or set `show_col_types = FALSE` to quiet this message.\n",
            "`summarise()` has grouped output by 'YEAR', 'STATE'. You can override using the\n",
            "`.groups` argument.\n",
            "[1] \"---------- Election Results in all States ----------\"\n",
            "Rows: 2245 Columns: 8\n",
            "── Column specification ────────────────────────────────────────────────────────\n",
            "Delimiter: \",\"\n",
            "chr (4): state, state_po, candidate, party_simplified\n",
            "dbl (3): year, candidate_votes, total_votes\n",
            "lgl (1): writein\n",
            "\n",
            "ℹ Use `spec()` to retrieve the full column specification for this data.\n",
            "ℹ Specify the column types or set `show_col_types = FALSE` to quiet this message.\n",
            "`summarise()` has grouped output by 'year', 'state_po'. You can override using\n",
            "the `.groups` argument.\n",
            "`summarise()` has grouped output by 'year'. You can override using the\n",
            "`.groups` argument.\n",
            "[1] \"---------- US States and their Regions ----------\"\n",
            "Rows: 51 Columns: 4\n",
            "── Column specification ────────────────────────────────────────────────────────\n",
            "Delimiter: \",\"\n",
            "chr (4): State, State Code, Region, Division\n",
            "\n",
            "ℹ Use `spec()` to retrieve the full column specification for this data.\n",
            "ℹ Specify the column types or set `show_col_types = FALSE` to quiet this message.\n",
            "[1] 51  4\n"
          ]
        }
      ]
    },
    {
      "cell_type": "markdown",
      "source": [
        "#### Combine dataframes"
      ],
      "metadata": {
        "id": "R3sobeUEVY-K"
      }
    },
    {
      "cell_type": "code",
      "source": [
        "%%R\n",
        "str(generation_df)"
      ],
      "metadata": {
        "colab": {
          "base_uri": "https://localhost:8080/"
        },
        "id": "QiSYh3B7Wjae",
        "outputId": "42274c33-254a-481a-ad39-1decf2d01d38"
      },
      "execution_count": 6,
      "outputs": [
        {
          "output_type": "stream",
          "name": "stdout",
          "text": [
            "tibble [104 × 4] (S3: tbl_df/tbl/data.frame)\n",
            " $ YEAR          : num [1:104] 2020 2020 2020 2020 2020 2020 2020 2020 2020 2020 ...\n",
            " $ STATE         : chr [1:104] \"AK\" \"AK\" \"AL\" \"AL\" ...\n",
            " $ ENERGY.SOURCE : chr [1:104] \"Not Sustainable\" \"Sustainable\" \"Not Sustainable\" \"Sustainable\" ...\n",
            " $ GENERATION_MWh: num [1:104] 142299 381025 2084326 9377569 1359948 ...\n"
          ]
        }
      ]
    },
    {
      "cell_type": "code",
      "source": [
        "%%R\n",
        "str(consumption_df)"
      ],
      "metadata": {
        "colab": {
          "base_uri": "https://localhost:8080/"
        },
        "id": "6WugDXegWm1x",
        "outputId": "840f232d-c22a-44b9-c77b-306714f3c28a"
      },
      "execution_count": 7,
      "outputs": [
        {
          "output_type": "stream",
          "name": "stdout",
          "text": [
            "tibble [104 × 4] (S3: tbl_df/tbl/data.frame)\n",
            " $ YEAR           : num [1:104] 2020 2020 2020 2020 2020 2020 2020 2020 2020 2020 ...\n",
            " $ STATE          : chr [1:104] \"AK\" \"AK\" \"AL\" \"AL\" ...\n",
            " $ ENERGY.SOURCE  : chr [1:104] \"Not Sustainable\" \"Sustainable\" \"Not Sustainable\" \"Sustainable\" ...\n",
            " $ CONSUMPTION_MWh: num [1:104] 1.11e+05 1.43e+07 2.24e+06 2.42e+08 1.73e+06 ...\n"
          ]
        }
      ]
    },
    {
      "cell_type": "code",
      "source": [
        "%%R\n",
        "str(emission_df)"
      ],
      "metadata": {
        "colab": {
          "base_uri": "https://localhost:8080/"
        },
        "id": "SD7SaA7CWr7A",
        "outputId": "eb7d8a6d-6970-483b-e937-4ee338c12aba"
      },
      "execution_count": 8,
      "outputs": [
        {
          "output_type": "stream",
          "name": "stdout",
          "text": [
            "tibble [104 × 4] (S3: tbl_df/tbl/data.frame)\n",
            " $ YEAR                    : num [1:104] 2020 2020 2020 2020 2020 2020 2020 2020 2020 2020 ...\n",
            " $ STATE                   : chr [1:104] \"AK\" \"AK\" \"AL\" \"AL\" ...\n",
            " $ ENERGY.SOURCE           : chr [1:104] \"Not Sustainable\" \"Sustainable\" \"Not Sustainable\" \"Sustainable\" ...\n",
            " $ CO2.EMISSION_METRIC.TONS: num [1:104] 2204962 1253931 21163824 23639358 15556565 ...\n"
          ]
        }
      ]
    },
    {
      "cell_type": "code",
      "source": [
        "%%R\n",
        "str(ruling_govt_df)"
      ],
      "metadata": {
        "colab": {
          "base_uri": "https://localhost:8080/"
        },
        "id": "aGnxYlmV7eRc",
        "outputId": "d7b16783-9609-4155-ba4d-f5fb3a921ad1"
      },
      "execution_count": 9,
      "outputs": [
        {
          "output_type": "stream",
          "name": "stdout",
          "text": [
            "tibble [51 × 3] (S3: tbl_df/tbl/data.frame)\n",
            " $ YEAR        : num [1:51] 2020 2020 2020 2020 2020 2020 2020 2020 2020 2020 ...\n",
            " $ STATE       : chr [1:51] \"AK\" \"AL\" \"AR\" \"AZ\" ...\n",
            " $ RULING.PARTY: chr [1:51] \"REPUBLICAN\" \"REPUBLICAN\" \"REPUBLICAN\" \"DEMOCRAT\" ...\n"
          ]
        }
      ]
    },
    {
      "cell_type": "code",
      "source": [
        "%%R\n",
        "str(regions_df)"
      ],
      "metadata": {
        "colab": {
          "base_uri": "https://localhost:8080/"
        },
        "id": "15BbAMrTMN8f",
        "outputId": "35134c98-a5fe-4d34-b1d3-19e3f99d6215"
      },
      "execution_count": 10,
      "outputs": [
        {
          "output_type": "stream",
          "name": "stdout",
          "text": [
            "spec_tbl_df [51 × 4] (S3: spec_tbl_df/tbl_df/tbl/data.frame)\n",
            " $ STATE.NAME: chr [1:51] \"Alaska\" \"Alabama\" \"Arkansas\" \"Arizona\" ...\n",
            " $ STATE     : chr [1:51] \"AK\" \"AL\" \"AR\" \"AZ\" ...\n",
            " $ REGION    : chr [1:51] \"West\" \"South\" \"South\" \"West\" ...\n",
            " $ DIVISION  : chr [1:51] \"Pacific\" \"East South Central\" \"West South Central\" \"Mountain\" ...\n",
            " - attr(*, \"spec\")=\n",
            "  .. cols(\n",
            "  ..   State = col_character(),\n",
            "  ..   `State Code` = col_character(),\n",
            "  ..   Region = col_character(),\n",
            "  ..   Division = col_character()\n",
            "  .. )\n",
            " - attr(*, \"problems\")=<externalptr> \n"
          ]
        }
      ]
    },
    {
      "cell_type": "code",
      "source": [
        "%%R\n",
        "#combine dataframes - ruling_govt_df, redions_df, generation_df, consumption_df and emission_df\n",
        "combined_df <-merge(merge(merge(merge(generation_df, consumption_df, by=c(\"YEAR\",\"STATE\",\"ENERGY.SOURCE\")), emission_df, by=c(\"YEAR\",\"STATE\",\"ENERGY.SOURCE\")), ruling_govt_df, by=c(\"YEAR\",\"STATE\")), regions_df, by=c(\"STATE\"))\n",
        "combined_df <- combined_df %>% relocate(any_of(c(\"STATE.NAME\", \"REGION\", \"DIVISION\", \"RULING.PARTY\")), .after=STATE) %>% select(,-YEAR)\n",
        "head(as_tibble(combined_df))\n",
        "dim(combined_df)"
      ],
      "metadata": {
        "colab": {
          "base_uri": "https://localhost:8080/"
        },
        "id": "E7arHS3pmBpW",
        "outputId": "143bc4ef-5685-4946-8c96-8580aa5c362e"
      },
      "execution_count": 11,
      "outputs": [
        {
          "output_type": "stream",
          "name": "stdout",
          "text": [
            "[1] 102   9\n"
          ]
        }
      ]
    },
    {
      "cell_type": "markdown",
      "source": [
        "Since price has only one record per state, and so far I have not figured out how to include this separately for Sustainable vs Not Sustainable Energy Sources, I am not merging this into the final dataframe"
      ],
      "metadata": {
        "id": "yTwQX00idWOY"
      }
    },
    {
      "cell_type": "code",
      "source": [
        "%%R\n",
        "str(price_df)"
      ],
      "metadata": {
        "colab": {
          "base_uri": "https://localhost:8080/"
        },
        "id": "VvyopteRDjtW",
        "outputId": "7907a19c-97ed-4ae1-89e2-17254498f5de"
      },
      "execution_count": 12,
      "outputs": [
        {
          "output_type": "stream",
          "name": "stdout",
          "text": [
            "tibble [52 × 3] (S3: tbl_df/tbl/data.frame)\n",
            " $ YEAR            : num [1:52] 2020 2020 2020 2020 2020 2020 2020 2020 2020 2020 ...\n",
            " $ STATE           : chr [1:52] \"AK\" \"AL\" \"AR\" \"AZ\" ...\n",
            " $ PRICE.DOLLAR_MWh: num [1:52] 198.2 98.4 83.2 104.4 180 ...\n"
          ]
        }
      ]
    },
    {
      "cell_type": "markdown",
      "source": [
        "#### Save combined_df as csv to upload into github for later"
      ],
      "metadata": {
        "id": "3b2OilPRRrb1"
      }
    },
    {
      "cell_type": "code",
      "source": [
        "from google.colab import files\n",
        "\n",
        "#convert R data fram to python dataframe\n",
        "%R -o combined_df\n",
        "combined_df.to_csv('electricity_analysis.csv', encoding = 'utf-8-sig') \n",
        "files.download('electricity_analysis.csv')"
      ],
      "metadata": {
        "colab": {
          "base_uri": "https://localhost:8080/",
          "height": 17
        },
        "id": "nIzNPly5R1rB",
        "outputId": "fd8355e5-40d7-49c6-acd6-6e9b28fe7414"
      },
      "execution_count": 13,
      "outputs": [
        {
          "output_type": "display_data",
          "data": {
            "text/plain": [
              "<IPython.core.display.Javascript object>"
            ],
            "application/javascript": [
              "\n",
              "    async function download(id, filename, size) {\n",
              "      if (!google.colab.kernel.accessAllowed) {\n",
              "        return;\n",
              "      }\n",
              "      const div = document.createElement('div');\n",
              "      const label = document.createElement('label');\n",
              "      label.textContent = `Downloading \"${filename}\": `;\n",
              "      div.appendChild(label);\n",
              "      const progress = document.createElement('progress');\n",
              "      progress.max = size;\n",
              "      div.appendChild(progress);\n",
              "      document.body.appendChild(div);\n",
              "\n",
              "      const buffers = [];\n",
              "      let downloaded = 0;\n",
              "\n",
              "      const channel = await google.colab.kernel.comms.open(id);\n",
              "      // Send a message to notify the kernel that we're ready.\n",
              "      channel.send({})\n",
              "\n",
              "      for await (const message of channel.messages) {\n",
              "        // Send a message to notify the kernel that we're ready.\n",
              "        channel.send({})\n",
              "        if (message.buffers) {\n",
              "          for (const buffer of message.buffers) {\n",
              "            buffers.push(buffer);\n",
              "            downloaded += buffer.byteLength;\n",
              "            progress.value = downloaded;\n",
              "          }\n",
              "        }\n",
              "      }\n",
              "      const blob = new Blob(buffers, {type: 'application/binary'});\n",
              "      const a = document.createElement('a');\n",
              "      a.href = window.URL.createObjectURL(blob);\n",
              "      a.download = filename;\n",
              "      div.appendChild(a);\n",
              "      a.click();\n",
              "      div.remove();\n",
              "    }\n",
              "  "
            ]
          },
          "metadata": {}
        },
        {
          "output_type": "display_data",
          "data": {
            "text/plain": [
              "<IPython.core.display.Javascript object>"
            ],
            "application/javascript": [
              "download(\"download_51f3c623-0aa2-4a2d-89d8-5b063c1cb67b\", \"electricity_analysis.csv\", 10765)"
            ]
          },
          "metadata": {}
        }
      ]
    },
    {
      "cell_type": "markdown",
      "source": [
        "#### Session Info"
      ],
      "metadata": {
        "id": "BG5nOhb0R2wi"
      }
    },
    {
      "cell_type": "code",
      "source": [
        "%%R\n",
        "sessionInfo()"
      ],
      "metadata": {
        "colab": {
          "base_uri": "https://localhost:8080/"
        },
        "id": "c_Msf2xcQLoG",
        "outputId": "78827ddf-d2da-40f2-82cd-6508040b576d"
      },
      "execution_count": 14,
      "outputs": [
        {
          "output_type": "stream",
          "name": "stdout",
          "text": [
            "R version 4.1.3 (2022-03-10)\n",
            "Platform: x86_64-pc-linux-gnu (64-bit)\n",
            "Running under: Ubuntu 18.04.5 LTS\n",
            "\n",
            "Matrix products: default\n",
            "BLAS:   /usr/lib/x86_64-linux-gnu/openblas/libblas.so.3\n",
            "LAPACK: /usr/lib/x86_64-linux-gnu/openblas/liblapack.so.3\n",
            "\n",
            "locale:\n",
            " [1] LC_CTYPE=en_US.UTF-8       LC_NUMERIC=C              \n",
            " [3] LC_TIME=en_US.UTF-8        LC_COLLATE=en_US.UTF-8    \n",
            " [5] LC_MONETARY=en_US.UTF-8    LC_MESSAGES=en_US.UTF-8   \n",
            " [7] LC_PAPER=en_US.UTF-8       LC_NAME=C                 \n",
            " [9] LC_ADDRESS=C               LC_TELEPHONE=C            \n",
            "[11] LC_MEASUREMENT=en_US.UTF-8 LC_IDENTIFICATION=C       \n",
            "\n",
            "attached base packages:\n",
            "[1] tools     stats     graphics  grDevices utils     datasets  methods  \n",
            "[8] base     \n",
            "\n",
            "other attached packages:\n",
            " [1] magrittr_2.0.2  forcats_0.5.1   stringr_1.4.0   purrr_0.3.4    \n",
            " [5] tidyr_1.2.0     tibble_3.1.6    ggplot2_3.3.5   tidyverse_1.3.1\n",
            " [9] dplyr_1.0.8     readr_2.1.2    \n",
            "\n",
            "loaded via a namespace (and not attached):\n",
            " [1] Rcpp_1.0.8.3     cellranger_1.1.0 pillar_1.7.0     compiler_4.1.3  \n",
            " [5] dbplyr_2.1.1     bit_4.0.4        jsonlite_1.8.0   lubridate_1.8.0 \n",
            " [9] lifecycle_1.0.1  gtable_0.3.0     pkgconfig_2.0.3  rlang_1.0.2     \n",
            "[13] reprex_2.0.1     rstudioapi_0.13  DBI_1.1.2        cli_3.2.0       \n",
            "[17] parallel_4.1.3   haven_2.4.3      xml2_1.3.3       withr_2.5.0     \n",
            "[21] httr_1.4.2       fs_1.5.2         generics_0.1.2   vctrs_0.3.8     \n",
            "[25] hms_1.1.1        bit64_4.0.5      grid_4.1.3       tidyselect_1.1.2\n",
            "[29] glue_1.6.2       R6_2.5.1         fansi_1.0.2      readxl_1.3.1    \n",
            "[33] vroom_1.5.7      tzdb_0.2.0       modelr_0.1.8     backports_1.4.1 \n",
            "[37] scales_1.1.1     ellipsis_0.3.2   rvest_1.0.2      assertthat_0.2.1\n",
            "[41] colorspace_2.0-3 utf8_1.2.2       stringi_1.7.6    munsell_0.5.0   \n",
            "[45] broom_0.7.12     crayon_1.5.0    \n"
          ]
        }
      ]
    }
  ]
}